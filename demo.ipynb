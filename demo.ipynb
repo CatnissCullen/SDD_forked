{
 "cells": [
  {
   "cell_type": "code",
   "execution_count": 1,
   "metadata": {
    "collapsed": true,
    "ExecuteTime": {
     "start_time": "2024-09-17T15:32:31.906327Z",
     "end_time": "2024-09-17T15:32:32.071468Z"
    }
   },
   "outputs": [
    {
     "name": "stdout",
     "output_type": "stream",
     "text": [
      "/data/ypq/DiffusionPainter/SDD\n",
      "\u001B[0m\u001B[01;34mconfigs\u001B[0m/    \u001B[01;34mdocs\u001B[0m/         \u001B[01;34mmodels\u001B[0m/       requirements.txt  train.py\r\n",
      "\u001B[01;34mdata\u001B[0m/       inference.py  \u001B[01;34mpretrain\u001B[0m/     search.py         \u001B[01;34mutils\u001B[0m/\r\n",
      "dataset.py  LICENSE       \u001B[01;34m__pycache__\u001B[0m/  \u001B[01;34msrc\u001B[0m/              \u001B[01;34mwork_dirs\u001B[0m/\r\n",
      "demo.ipynb  \u001B[01;34mloss\u001B[0m/         README.md     \u001B[01;34msynthesizer\u001B[0m/\r\n"
     ]
    }
   ],
   "source": [
    "%cd /data/ypq/DiffusionPainter/SDD\n",
    "%ls"
   ]
  },
  {
   "cell_type": "code",
   "execution_count": 2,
   "outputs": [
    {
     "name": "stdout",
     "output_type": "stream",
     "text": [
      "200\n"
     ]
    }
   ],
   "source": [
    "import os\n",
    "import requests\n",
    "\n",
    "os.environ['http_proxy'] = \"http://127.0.0.1:7890\"\n",
    "os.environ['https_proxy'] = \"http://127.0.0.1:7890\"\n",
    "# 测试，输出200为正常接通\n",
    "response = requests.get('http://www.google.com')\n",
    "print(response.status_code)\n"
   ],
   "metadata": {
    "collapsed": false,
    "ExecuteTime": {
     "start_time": "2024-09-17T15:32:32.071468Z",
     "end_time": "2024-09-17T15:32:33.011548Z"
    }
   }
  }
 ],
 "metadata": {
  "kernelspec": {
   "name": "sdd",
   "language": "python",
   "display_name": "Python (sdd)"
  },
  "language_info": {
   "codemirror_mode": {
    "name": "ipython",
    "version": 2
   },
   "file_extension": ".py",
   "mimetype": "text/x-python",
   "name": "python",
   "nbconvert_exporter": "python",
   "pygments_lexer": "ipython2",
   "version": "2.7.6"
  }
 },
 "nbformat": 4,
 "nbformat_minor": 0
}
